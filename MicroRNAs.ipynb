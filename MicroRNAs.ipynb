{
  "nbformat": 4,
  "nbformat_minor": 0,
  "metadata": {
    "colab": {
      "provenance": [],
      "authorship_tag": "ABX9TyNDcKW9zrz/JmXWg5tw8143",
      "include_colab_link": true
    },
    "kernelspec": {
      "name": "python3",
      "display_name": "Python 3"
    },
    "language_info": {
      "name": "python"
    }
  },
  "cells": [
    {
      "cell_type": "markdown",
      "metadata": {
        "id": "view-in-github",
        "colab_type": "text"
      },
      "source": [
        "<a href=\"https://colab.research.google.com/github/Govindest/Machine-Learning-Model-for-Predicting-Liver-Cancer-Using-miRNA-Expression-Profiles/blob/main/MicroRNAs.ipynb\" target=\"_parent\"><img src=\"https://colab.research.google.com/assets/colab-badge.svg\" alt=\"Open In Colab\"/></a>"
      ]
    },
    {
      "cell_type": "code",
      "execution_count": null,
      "metadata": {
        "id": "-0WI6jVhxc0G"
      },
      "outputs": [],
      "source": [
        "import pandas as pd\n",
        "from sklearn.model_selection import train_test_split, RandomizedSearchCV\n",
        "from sklearn.ensemble import RandomForestClassifier\n",
        "from sklearn.metrics import accuracy_score\n",
        "\n",
        "# Load and preprocess the dataset\n"
      ]
    },
    {
      "cell_type": "code",
      "source": [
        "file_name = 'miRNA Project Data - Sheet1.csv'\n",
        "data = pd.read_csv(file_name)\n",
        "relevant_columns = [col for col in data.columns if 'MIMAT' in col] + ['Unnamed: 1']\n",
        "cleaned_data = data[relevant_columns]\n",
        "cleaned_data = cleaned_data.rename(columns={'Unnamed: 1': 'Health_Status'})\n",
        "cleaned_data['Health_Status'] = cleaned_data['Health_Status'].apply(lambda x: 0 if x == 'Healthy' else 1)\n",
        "X = cleaned_data.drop('Health_Status', axis=1)\n",
        "y = cleaned_data['Health_Status']\n",
        "\n"
      ],
      "metadata": {
        "id": "aktcDJIKxiWp"
      },
      "execution_count": null,
      "outputs": []
    },
    {
      "cell_type": "code",
      "source": [
        "# Splitting the data into training and testing sets\n",
        "X_train, X_test, y_train, y_test = train_test_split(X, y, test_size=0.2, random_state=42)\n",
        "\n",
        "# Hyperparameter tuning\n",
        "param_dist = {\n",
        "    'n_estimators': [100, 200, 300, 400, 500],\n",
        "    'max_features': ['auto', 'sqrt'],\n",
        "    'max_depth': [10, 20, 30, 40, 50, None],\n",
        "    'min_samples_split': [2, 5, 10],\n",
        "    'min_samples_leaf': [1, 2, 4],\n",
        "    'bootstrap': [True, False]\n",
        "}\n",
        "\n"
      ],
      "metadata": {
        "id": "gNgcU4YSxkmM"
      },
      "execution_count": null,
      "outputs": []
    },
    {
      "cell_type": "code",
      "source": [
        "rf = RandomForestClassifier(random_state=42)\n",
        "random_search = RandomizedSearchCV(estimator=rf, param_distributions=param_dist, n_iter=100, cv=3, verbose=2, random_state=42, n_jobs=-1)\n",
        "random_search.fit(X_train, y_train)\n",
        "\n",
        "# Best parameters\n"
      ],
      "metadata": {
        "id": "3wHi4NSjxl3E",
        "outputId": "9c490c07-6e22-40a0-ecd5-a6c6cf8501b1",
        "colab": {
          "base_uri": "https://localhost:8080/"
        }
      },
      "execution_count": null,
      "outputs": [
        {
          "output_type": "stream",
          "name": "stdout",
          "text": [
            "Fitting 3 folds for each of 100 candidates, totalling 300 fits\n"
          ]
        }
      ]
    },
    {
      "cell_type": "code",
      "source": [
        "best_params = random_search.best_params_\n",
        "best_rf = RandomForestClassifier(**best_params, random_state=42)\n",
        "best_rf.fit(X_train, y_train)\n",
        "\n"
      ],
      "metadata": {
        "id": "-oMA3rJ3xnOb"
      },
      "execution_count": null,
      "outputs": []
    },
    {
      "cell_type": "code",
      "source": [
        "# Prediction function\n",
        "def predict_cancer(mirna_levels):\n",
        "    \"\"\"\n",
        "    Predicts liver cancer based on miRNA levels.\n",
        "    Args:\n",
        "    mirna_levels (list): A list of miRNA expression levels.\n",
        "\n",
        "    Returns:\n",
        "    int: Predicted class (0 for Healthy, 1 for Cancer).\n",
        "    \"\"\"\n",
        "    mirna_levels = pd.DataFrame([mirna_levels], columns=X.columns)\n",
        "    prediction = best_rf.predict(mirna_levels)\n",
        "    return prediction[0]\n",
        "\n",
        "\n"
      ],
      "metadata": {
        "id": "er80Izb1xouX"
      },
      "execution_count": null,
      "outputs": []
    },
    {
      "cell_type": "code",
      "source": [
        "# Example usage of the function\n",
        "example_data = [2.612, 2.612, 2.612]  # Replace with actual miRNA expression levels\n",
        "prediction = predict_cancer(example_data)\n",
        "print(\"Cancer Prediction (0 for Healthy, 1 for Cancer):\", prediction)\n",
        "\n",
        "\n",
        "def"
      ],
      "metadata": {
        "id": "bmZUGHvYxpLs"
      },
      "execution_count": null,
      "outputs": []
    },
    {
      "cell_type": "code",
      "source": [
        "# Predicting on the test set and evaluating accuracy\n",
        "y_pred = best_rf.predict(X_test)\n",
        "accuracy = accuracy_score(y_test, y_pred)\n",
        "print(\"Test Set Accuracy:\", accuracy)"
      ],
      "metadata": {
        "id": "XzoLZPVkxqmC"
      },
      "execution_count": null,
      "outputs": []
    }
  ]
}